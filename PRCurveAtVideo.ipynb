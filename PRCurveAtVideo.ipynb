{
 "cells": [
  {
   "cell_type": "code",
   "execution_count": 1,
   "metadata": {},
   "outputs": [],
   "source": [
    "import pandas as pd\n",
    "import numpy as np\n",
    "import math\n",
    "\n",
    "from matplotlib import pyplot as plt\n",
    "from sklearn.metrics import precision_recall_curve\n",
    "from sklearn.metrics import average_precision_score"
   ]
  },
  {
   "cell_type": "markdown",
   "metadata": {},
   "source": [
    "# SSD Inception"
   ]
  },
  {
   "cell_type": "code",
   "execution_count": 2,
   "metadata": {},
   "outputs": [],
   "source": [
    "model_version = 'v2'\n",
    "model_name = 'ssd_inception_ship_{}'.format(model_version)"
   ]
  },
  {
   "cell_type": "code",
   "execution_count": 3,
   "metadata": {},
   "outputs": [
    {
     "name": "stdout",
     "output_type": "stream",
     "text": [
      "Fishing AP: 0.9993\n",
      "Fishing AP: 0.9993372385644194\n"
     ]
    },
    {
     "data": {
      "image/png": "[encoded data removed]",
      "text/plain": [
       "<Figure size 432x288 with 1 Axes>"
      ]
     },
     "metadata": {
      "needs_background": "light"
     },
     "output_type": "display_data"
    }
   ],
   "source": [
    "category = 'fishing'\n",
    "data_path = 'time_series_data/{}/{}_{}.csv'.format(model_version, category, model_name)\n",
    "\n",
    "df = pd.read_csv(data_path)\n",
    "\n",
    "category_list = df.category.tolist()\n",
    "score_list = df.score.tolist()\n",
    "\n",
    "fishing_true = []\n",
    "fishing_score = []\n",
    "for i in range(len(category_list)):\n",
    "    if category_list[i] == 'fishing':\n",
    "        fishing_true.append(True)\n",
    "        fishing_score.append(score_list[i])\n",
    "    else:\n",
    "        if math.isnan(score_list[i]) == True:\n",
    "            pass\n",
    "        else:\n",
    "            fishing_true.append(False)\n",
    "            fishing_score.append(score_list[i])\n",
    "        \n",
    "y_true = np.array(fishing_true)\n",
    "y_score = np.array(fishing_score)\n",
    "precision, recall, thresholds = precision_recall_curve(y_true, y_score)\n",
    "average_precision = average_precision_score(y_true, y_score)\n",
    "print(\"Fishing AP: {0:0.4f}\".format(average_precision))\n",
    "\n",
    "plt.plot(recall, precision)\n",
    "\n",
    "print(\"Fishing AP:\", sum(precision)/len(precision))\n",
    "ssd_inception_fishing_ap = sum(precision)/len(precision)"
   ]
  },
  {
   "cell_type": "code",
   "execution_count": 4,
   "metadata": {},
   "outputs": [],
   "source": [
    "model_version = 'v3'\n",
    "model_name = 'ssd_inception_ship_{}'.format(model_version)"
   ]
  },
  {
   "cell_type": "code",
   "execution_count": 5,
   "metadata": {},
   "outputs": [
    {
     "name": "stdout",
     "output_type": "stream",
     "text": [
      "Merchant AP: 1.0\n"
     ]
    },
    {
     "data": {
      "image/png": "[encoded data removed]",
      "text/plain": [
       "<Figure size 432x288 with 1 Axes>"
      ]
     },
     "metadata": {
      "needs_background": "light"
     },
     "output_type": "display_data"
    }
   ],
   "source": [
    "category = 'merchant'\n",
    "data_path = 'time_series_data/{}/{}_{}.csv'.format(model_version, category, model_name)\n",
    "\n",
    "df = pd.read_csv(data_path)\n",
    "\n",
    "category_list = df.category.tolist()\n",
    "score_list = df.score.tolist()\n",
    "\n",
    "merchant_true = []\n",
    "merchant_score = []\n",
    "for i in range(len(category_list)):\n",
    "    if category_list[i] == 'merchant':\n",
    "        merchant_true.append(True)\n",
    "        merchant_score.append(score_list[i])\n",
    "    else:\n",
    "        if math.isnan(score_list[i]) == True:\n",
    "            pass\n",
    "        else:\n",
    "            merchant_true.append(False)\n",
    "            merchant_score.append(score_list[i])\n",
    "        \n",
    "y_true = np.array(merchant_true)\n",
    "y_score = np.array(merchant_score)\n",
    "precision, recall, thresholds = precision_recall_curve(y_true, y_score)\n",
    "\n",
    "plt.plot(recall, precision)\n",
    "\n",
    "print(\"Merchant AP:\", sum(precision)/len(precision))\n",
    "ssd_inception_merchant_ap = sum(precision)/len(precision)"
   ]
  },
  {
   "cell_type": "code",
   "execution_count": 6,
   "metadata": {},
   "outputs": [],
   "source": [
    "model_version = 'v2'\n",
    "model_name = 'ssd_inception_ship_{}'.format(model_version)"
   ]
  },
  {
   "cell_type": "code",
   "execution_count": 7,
   "metadata": {},
   "outputs": [
    {
     "name": "stdout",
     "output_type": "stream",
     "text": [
      "Passenger AP: 1.0\n"
     ]
    },
    {
     "data": {
      "image/png": "[encoded data removed]",
      "text/plain": [
       "<Figure size 432x288 with 1 Axes>"
      ]
     },
     "metadata": {
      "needs_background": "light"
     },
     "output_type": "display_data"
    }
   ],
   "source": [
    "category = 'passenger'\n",
    "data_path = 'time_series_data/{}/{}_{}.csv'.format(model_version, category, model_name)\n",
    "\n",
    "df = pd.read_csv(data_path)\n",
    "\n",
    "category_list = df.category.tolist()\n",
    "score_list = df.score.tolist()\n",
    "\n",
    "passenger_true = []\n",
    "passenger_score = []\n",
    "for i in range(len(category_list)):\n",
    "    if category_list[i] == 'passenger':\n",
    "        passenger_true.append(True)\n",
    "        passenger_score.append(score_list[i])\n",
    "    else:\n",
    "        if math.isnan(score_list[i]) == True:\n",
    "            pass\n",
    "        else:\n",
    "            passenger_true.append(False)\n",
    "            passenger_score.append(score_list[i])\n",
    "        \n",
    "y_true = np.array(passenger_true)\n",
    "y_score = np.array(passenger_score)\n",
    "precision, recall, thresholds = precision_recall_curve(y_true, y_score)\n",
    "\n",
    "plt.plot(recall, precision)\n",
    "\n",
    "print(\"Passenger AP:\", sum(precision)/len(precision))\n",
    "ssd_inception_passenger_ap = sum(precision)/len(precision)"
   ]
  },
  {
   "cell_type": "code",
   "execution_count": 8,
   "metadata": {},
   "outputs": [],
   "source": [
    "model_version = 'v3'\n",
    "model_name = 'ssd_inception_ship_{}'.format(model_version)"
   ]
  },
  {
   "cell_type": "code",
   "execution_count": 9,
   "metadata": {},
   "outputs": [
    {
     "name": "stdout",
     "output_type": "stream",
     "text": [
      "Sailing AP: 1.0\n"
     ]
    },
    {
     "data": {
      "image/png": "[encoded data removed]",
      "text/plain": [
       "<Figure size 432x288 with 1 Axes>"
      ]
     },
     "metadata": {
      "needs_background": "light"
     },
     "output_type": "display_data"
    }
   ],
   "source": [
    "category = 'sailing'\n",
    "data_path = 'time_series_data/{}/{}_{}.csv'.format(model_version, category, model_name)\n",
    "\n",
    "df = pd.read_csv(data_path)\n",
    "\n",
    "category_list = df.category.tolist()\n",
    "score_list = df.score.tolist()\n",
    "\n",
    "sailing_true = []\n",
    "sailing_score = []\n",
    "for i in range(len(category_list)):\n",
    "    if category_list[i] == 'sailing':\n",
    "        sailing_true.append(True)\n",
    "        sailing_score.append(score_list[i])\n",
    "    else:\n",
    "        if math.isnan(score_list[i]) == True:\n",
    "            pass\n",
    "        else:\n",
    "            sailing_true.append(False)\n",
    "            sailing_score.append(score_list[i])\n",
    "    \n",
    "y_true = np.array(sailing_true)\n",
    "y_score = np.array(sailing_score)\n",
    "precision, recall, thresholds = precision_recall_curve(y_true, y_score)\n",
    "\n",
    "plt.plot(recall, precision)\n",
    "\n",
    "print(\"Sailing AP:\", sum(precision)/len(precision))\n",
    "ssd_inception_sailing_ap = sum(precision)/len(precision)"
   ]
  },
  {
   "cell_type": "code",
   "execution_count": 10,
   "metadata": {},
   "outputs": [],
   "source": [
    "model_version = 'v2'\n",
    "model_name = 'ssd_inception_ship_{}'.format(model_version)"
   ]
  },
  {
   "cell_type": "code",
   "execution_count": 11,
   "metadata": {},
   "outputs": [
    {
     "name": "stdout",
     "output_type": "stream",
     "text": [
      "Small AP: 0.9759573950181347\n"
     ]
    },
    {
     "data": {
      "image/png": "[encoded data removed]",
      "text/plain": [
       "<Figure size 432x288 with 1 Axes>"
      ]
     },
     "metadata": {
      "needs_background": "light"
     },
     "output_type": "display_data"
    }
   ],
   "source": [
    "category = 'small'\n",
    "data_path = 'time_series_data/{}/{}_{}.csv'.format(model_version, category, model_name)\n",
    "\n",
    "df = pd.read_csv(data_path)\n",
    "\n",
    "category_list = df.category.tolist()\n",
    "score_list = df.score.tolist()\n",
    "\n",
    "small_true = []\n",
    "small_score = []\n",
    "for i in range(len(category_list)):\n",
    "    if category_list[i] == 'small':\n",
    "        small_true.append(True)\n",
    "        small_score.append(score_list[i])\n",
    "    else:\n",
    "        if math.isnan(score_list[i]) == True:\n",
    "            pass\n",
    "        else:\n",
    "            small_true.append(False)\n",
    "            small_score.append(score_list[i])\n",
    "        \n",
    "y_true = np.array(small_true)\n",
    "y_score = np.array(small_score)\n",
    "precision, recall, thresholds = precision_recall_curve(y_true, y_score)\n",
    "\n",
    "plt.plot(recall, precision)\n",
    "\n",
    "print(\"Small AP:\", sum(precision)/len(precision))\n",
    "ssd_inception_small_ap = sum(precision)/len(precision)"
   ]
  },
  {
   "cell_type": "code",
   "execution_count": 12,
   "metadata": {},
   "outputs": [],
   "source": [
    "model_version = 'v2'\n",
    "model_name = 'ssd_inception_ship_{}'.format(model_version)"
   ]
  },
  {
   "cell_type": "code",
   "execution_count": 13,
   "metadata": {},
   "outputs": [
    {
     "name": "stdout",
     "output_type": "stream",
     "text": [
      "Tug AP: 0.9498822645544821\n"
     ]
    },
    {
     "data": {
      "image/png": "[encoded data removed]",
      "text/plain": [
       "<Figure size 432x288 with 1 Axes>"
      ]
     },
     "metadata": {
      "needs_background": "light"
     },
     "output_type": "display_data"
    }
   ],
   "source": [
    "category = 'tug'\n",
    "data_path = 'time_series_data/{}/{}_{}.csv'.format(model_version, category, model_name)\n",
    "\n",
    "df = pd.read_csv(data_path)\n",
    "\n",
    "category_list = df.category.tolist()\n",
    "score_list = df.score.tolist()\n",
    "\n",
    "tug_true = []\n",
    "tug_score = []\n",
    "for i in range(len(category_list)):\n",
    "    if category_list[i] == 'tug':\n",
    "        tug_true.append(True)\n",
    "        tug_score.append(score_list[i])\n",
    "    else:\n",
    "        if math.isnan(score_list[i]) == True:\n",
    "            pass\n",
    "        else:\n",
    "            tug_true.append(False)\n",
    "            tug_score.append(score_list[i])\n",
    "        \n",
    "y_true = np.array(tug_true)\n",
    "y_score = np.array(tug_score)\n",
    "precision, recall, thresholds = precision_recall_curve(y_true, y_score)\n",
    "\n",
    "plt.plot(recall, precision)\n",
    "\n",
    "print(\"Tug AP:\", sum(precision)/len(precision))\n",
    "ssd_inception_tug_ap = sum(precision)/len(precision)"
   ]
  },
  {
   "cell_type": "code",
   "execution_count": 14,
   "metadata": {},
   "outputs": [],
   "source": [
    "model_version = 'v3'\n",
    "model_name = 'ssd_inception_ship_{}'.format(model_version)"
   ]
  },
  {
   "cell_type": "code",
   "execution_count": 15,
   "metadata": {},
   "outputs": [
    {
     "name": "stdout",
     "output_type": "stream",
     "text": [
      "Warship AP: 0.9542256606893131\n"
     ]
    },
    {
     "data": {
      "image/png": "[encoded data removed]",
      "text/plain": [
       "<Figure size 432x288 with 1 Axes>"
      ]
     },
     "metadata": {
      "needs_background": "light"
     },
     "output_type": "display_data"
    }
   ],
   "source": [
    "category = 'warship'\n",
    "data_path = 'time_series_data/{}/{}_{}.csv'.format(model_version, category, model_name)\n",
    "\n",
    "df = pd.read_csv(data_path)\n",
    "\n",
    "category_list = df.category.tolist()\n",
    "score_list = df.score.tolist()\n",
    "\n",
    "warship_true = []\n",
    "warship_score = []\n",
    "for i in range(len(category_list)):\n",
    "    if category_list[i] == 'warship':\n",
    "        warship_true.append(True)\n",
    "        warship_score.append(score_list[i])\n",
    "    else:\n",
    "        if math.isnan(score_list[i]) == True:\n",
    "            pass\n",
    "        else:\n",
    "            warship_true.append(False)\n",
    "            warship_score.append(score_list[i])\n",
    "        \n",
    "y_true = np.array(warship_true)\n",
    "y_scores = np.array(warship_score)\n",
    "precision, recall, thresholds = precision_recall_curve(y_true, y_scores)\n",
    "\n",
    "plt.plot(recall, precision)\n",
    "\n",
    "print(\"Warship AP:\", sum(precision)/len(precision))\n",
    "ssd_inception_warship_ap = sum(precision)/len(precision)"
   ]
  },
  {
   "cell_type": "code",
   "execution_count": 16,
   "metadata": {},
   "outputs": [],
   "source": [
    "ssd_inception_true = fishing_true + merchant_true + passenger_true + sailing_true + small_true + tug_true + warship_true\n",
    "ssd_inception_score = fishing_score + merchant_score + passenger_score + sailing_score + small_score + tug_score + warship_score"
   ]
  },
  {
   "cell_type": "markdown",
   "metadata": {},
   "source": [
    "# SSD MobileNet"
   ]
  },
  {
   "cell_type": "code",
   "execution_count": 17,
   "metadata": {},
   "outputs": [],
   "source": [
    "model_version = 'v2'\n",
    "model_name = 'ssd_mobilenet_ship_{}'.format(model_version)"
   ]
  },
  {
   "cell_type": "code",
   "execution_count": 18,
   "metadata": {},
   "outputs": [
    {
     "name": "stdout",
     "output_type": "stream",
     "text": [
      "Fishing AP: 0.42617695922102256\n"
     ]
    },
    {
     "data": {
      "image/png": "[encoded data removed]",
      "text/plain": [
       "<Figure size 432x288 with 1 Axes>"
      ]
     },
     "metadata": {
      "needs_background": "light"
     },
     "output_type": "display_data"
    }
   ],
   "source": [
    "category = 'fishing'\n",
    "data_path = 'time_series_data/{}/{}_{}.csv'.format(model_version, category, model_name)\n",
    "\n",
    "df = pd.read_csv(data_path)\n",
    "\n",
    "category_list = df.category.tolist()\n",
    "score_list = df.score.tolist()\n",
    "\n",
    "fishing_true = []\n",
    "fishing_score = []\n",
    "for i in range(len(category_list)):\n",
    "    if category_list[i] == 'fishing':\n",
    "        fishing_true.append(True)\n",
    "        fishing_score.append(score_list[i])\n",
    "    else:\n",
    "        if math.isnan(score_list[i]) == True:\n",
    "            pass\n",
    "        else:\n",
    "            fishing_true.append(False)\n",
    "            fishing_score.append(score_list[i])\n",
    "        \n",
    "y_true = np.array(fishing_true)\n",
    "y_score = np.array(fishing_score)\n",
    "precision, recall, thresholds = precision_recall_curve(y_true, y_score)\n",
    "\n",
    "plt.plot(recall, precision)\n",
    "\n",
    "print(\"Fishing AP:\", sum(precision)/len(precision))\n",
    "ssd_mobilenet_fishing_ap = sum(precision)/len(precision)"
   ]
  },
  {
   "cell_type": "code",
   "execution_count": 19,
   "metadata": {},
   "outputs": [],
   "source": [
    "model_version = 'v1'\n",
    "model_name = 'ssd_mobilenet_ship_{}'.format(model_version)"
   ]
  },
  {
   "cell_type": "code",
   "execution_count": 20,
   "metadata": {},
   "outputs": [
    {
     "name": "stdout",
     "output_type": "stream",
     "text": [
      "Merchant AP: 1.0\n"
     ]
    },
    {
     "data": {
      "image/png": "[encoded data removed]",
      "text/plain": [
       "<Figure size 432x288 with 1 Axes>"
      ]
     },
     "metadata": {
      "needs_background": "light"
     },
     "output_type": "display_data"
    }
   ],
   "source": [
    "category = 'merchant'\n",
    "data_path = 'time_series_data/{}/{}_{}.csv'.format(model_version, category, model_name)\n",
    "\n",
    "df = pd.read_csv(data_path)\n",
    "\n",
    "category_list = df.category.tolist()\n",
    "score_list = df.score.tolist()\n",
    "\n",
    "merchant_true = []\n",
    "merchant_score = []\n",
    "for i in range(len(category_list)):\n",
    "    if category_list[i] == 'merchant':\n",
    "        merchant_true.append(True)\n",
    "        merchant_score.append(score_list[i])\n",
    "    else:\n",
    "        if math.isnan(score_list[i]) == True:\n",
    "            pass\n",
    "        else:\n",
    "            merchant_true.append(False)\n",
    "            merchant_score.append(score_list[i])\n",
    "        \n",
    "y_true = np.array(merchant_true)\n",
    "y_score = np.array(merchant_score)\n",
    "precision, recall, thresholds = precision_recall_curve(y_true, y_score)\n",
    "\n",
    "plt.plot(recall, precision)\n",
    "\n",
    "print(\"Merchant AP:\", sum(precision)/len(precision))\n",
    "ssd_mobilenet_merchant_ap = sum(precision)/len(precision)"
   ]
  },
  {
   "cell_type": "code",
   "execution_count": 21,
   "metadata": {},
   "outputs": [],
   "source": [
    "model_version = 'v2'\n",
    "model_name = 'ssd_mobilenet_ship_{}'.format(model_version)"
   ]
  },
  {
   "cell_type": "code",
   "execution_count": 22,
   "metadata": {},
   "outputs": [
    {
     "name": "stdout",
     "output_type": "stream",
     "text": [
      "Passenger AP: 0.9823686123498533\n"
     ]
    },
    {
     "data": {
      "image/png": "[encoded data removed]",
      "text/plain": [
       "<Figure size 432x288 with 1 Axes>"
      ]
     },
     "metadata": {
      "needs_background": "light"
     },
     "output_type": "display_data"
    }
   ],
   "source": [
    "category = 'passenger'\n",
    "data_path = 'time_series_data/{}/{}_{}.csv'.format(model_version, category, model_name)\n",
    "\n",
    "df = pd.read_csv(data_path)\n",
    "\n",
    "category_list = df.category.tolist()\n",
    "score_list = df.score.tolist()\n",
    "\n",
    "passenger_true = []\n",
    "passenger_score = []\n",
    "for i in range(len(category_list)):\n",
    "    if category_list[i] == 'passenger':\n",
    "        passenger_true.append(True)\n",
    "        passenger_score.append(score_list[i])\n",
    "    else:\n",
    "        if math.isnan(score_list[i]) == True:\n",
    "            pass\n",
    "        else:\n",
    "            passenger_true.append(False)\n",
    "            passenger_score.append(score_list[i])\n",
    "        \n",
    "y_true = np.array(passenger_true)\n",
    "y_score = np.array(passenger_score)\n",
    "precision, recall, thresholds = precision_recall_curve(y_true, y_score)\n",
    "\n",
    "plt.plot(recall, precision)\n",
    "\n",
    "print(\"Passenger AP:\", sum(precision)/len(precision))\n",
    "ssd_mobilenet_passenger_ap = sum(precision)/len(precision)"
   ]
  },
  {
   "cell_type": "code",
   "execution_count": 23,
   "metadata": {},
   "outputs": [],
   "source": [
    "model_version = 'v3'\n",
    "model_name = 'ssd_mobilenet_ship_{}'.format(model_version)"
   ]
  },
  {
   "cell_type": "code",
   "execution_count": 24,
   "metadata": {},
   "outputs": [
    {
     "name": "stdout",
     "output_type": "stream",
     "text": [
      "Sailing AP: 1.0\n"
     ]
    },
    {
     "data": {
      "image/png": "[encoded data removed]",
      "text/plain": [
       "<Figure size 432x288 with 1 Axes>"
      ]
     },
     "metadata": {
      "needs_background": "light"
     },
     "output_type": "display_data"
    }
   ],
   "source": [
    "category = 'sailing'\n",
    "data_path = 'time_series_data/{}/{}_{}.csv'.format(model_version, category, model_name)\n",
    "\n",
    "df = pd.read_csv(data_path)\n",
    "\n",
    "category_list = df.category.tolist()\n",
    "score_list = df.score.tolist()\n",
    "\n",
    "sailing_true = []\n",
    "sailing_score = []\n",
    "for i in range(len(category_list)):\n",
    "    if category_list[i] == 'sailing':\n",
    "        sailing_true.append(True)\n",
    "        sailing_score.append(score_list[i])\n",
    "    else:\n",
    "        if math.isnan(score_list[i]) == True:\n",
    "            pass\n",
    "        else:\n",
    "            sailing_true.append(False)\n",
    "            sailing_score.append(score_list[i])\n",
    "    \n",
    "y_true = np.array(sailing_true)\n",
    "y_score = np.array(sailing_score)\n",
    "precision, recall, thresholds = precision_recall_curve(y_true, y_score)\n",
    "\n",
    "plt.plot(recall, precision)\n",
    "\n",
    "print(\"Sailing AP:\", sum(precision)/len(precision))\n",
    "ssd_mobilenet_sailing_ap = sum(precision)/len(precision)"
   ]
  },
  {
   "cell_type": "code",
   "execution_count": 25,
   "metadata": {},
   "outputs": [],
   "source": [
    "model_version = 'v2'\n",
    "model_name = 'ssd_mobilenet_ship_{}'.format(model_version)"
   ]
  },
  {
   "cell_type": "code",
   "execution_count": 26,
   "metadata": {},
   "outputs": [
    {
     "name": "stdout",
     "output_type": "stream",
     "text": [
      "Small AP: 0.9573742394165096\n"
     ]
    },
    {
     "data": {
      "image/png": "[encoded data removed]",
      "text/plain": [
       "<Figure size 432x288 with 1 Axes>"
      ]
     },
     "metadata": {
      "needs_background": "light"
     },
     "output_type": "display_data"
    }
   ],
   "source": [
    "category = 'small'\n",
    "data_path = 'time_series_data/{}/{}_{}.csv'.format(model_version, category, model_name)\n",
    "\n",
    "df = pd.read_csv(data_path)\n",
    "\n",
    "category_list = df.category.tolist()\n",
    "score_list = df.score.tolist()\n",
    "\n",
    "small_true = []\n",
    "small_score = []\n",
    "for i in range(len(category_list)):\n",
    "    if category_list[i] == 'small':\n",
    "        small_true.append(True)\n",
    "        small_score.append(score_list[i])\n",
    "    else:\n",
    "        if math.isnan(score_list[i]) == True:\n",
    "            pass\n",
    "        else:\n",
    "            small_true.append(False)\n",
    "            small_score.append(score_list[i])\n",
    "        \n",
    "y_true = np.array(small_true)\n",
    "y_score = np.array(small_score)\n",
    "precision, recall, thresholds = precision_recall_curve(y_true, y_score)\n",
    "\n",
    "plt.plot(recall, precision)\n",
    "\n",
    "print(\"Small AP:\", sum(precision)/len(precision))\n",
    "ssd_mobilenet_small_ap = sum(precision)/len(precision)"
   ]
  },
  {
   "cell_type": "code",
   "execution_count": 27,
   "metadata": {},
   "outputs": [],
   "source": [
    "model_version = 'v3'\n",
    "model_name = 'ssd_mobilenet_ship_{}'.format(model_version)"
   ]
  },
  {
   "cell_type": "code",
   "execution_count": 28,
   "metadata": {},
   "outputs": [
    {
     "name": "stdout",
     "output_type": "stream",
     "text": [
      "Tug AP: 0.9999707693342638\n"
     ]
    },
    {
     "data": {
      "image/png": "[encoded data removed]",
      "text/plain": [
       "<Figure size 432x288 with 1 Axes>"
      ]
     },
     "metadata": {
      "needs_background": "light"
     },
     "output_type": "display_data"
    }
   ],
   "source": [
    "category = 'tug'\n",
    "data_path = 'time_series_data/{}/{}_{}.csv'.format(model_version, category, model_name)\n",
    "\n",
    "df = pd.read_csv(data_path)\n",
    "\n",
    "category_list = df.category.tolist()\n",
    "score_list = df.score.tolist()\n",
    "\n",
    "tug_true = []\n",
    "tug_score = []\n",
    "for i in range(len(category_list)):\n",
    "    if category_list[i] == 'tug':\n",
    "        tug_true.append(True)\n",
    "        tug_score.append(score_list[i])\n",
    "    else:\n",
    "        if math.isnan(score_list[i]) == True:\n",
    "            pass\n",
    "        else:\n",
    "            tug_true.append(False)\n",
    "            tug_score.append(score_list[i])\n",
    "        \n",
    "y_true = np.array(tug_true)\n",
    "y_score = np.array(tug_score)\n",
    "precision, recall, thresholds = precision_recall_curve(y_true, y_score)\n",
    "\n",
    "plt.plot(recall, precision)\n",
    "\n",
    "print(\"Tug AP:\", sum(precision)/len(precision))\n",
    "ssd_mobilenet_tug_ap = sum(precision)/len(precision)"
   ]
  },
  {
   "cell_type": "code",
   "execution_count": 29,
   "metadata": {},
   "outputs": [],
   "source": [
    "model_version = 'v2'\n",
    "model_name = 'ssd_mobilenet_ship_{}'.format(model_version)"
   ]
  },
  {
   "cell_type": "code",
   "execution_count": 30,
   "metadata": {},
   "outputs": [
    {
     "name": "stdout",
     "output_type": "stream",
     "text": [
      "Warship AP: 0.9194962756512035\n"
     ]
    },
    {
     "data": {
      "image/png": "[encoded data removed]",
      "text/plain": [
       "<Figure size 432x288 with 1 Axes>"
      ]
     },
     "metadata": {
      "needs_background": "light"
     },
     "output_type": "display_data"
    }
   ],
   "source": [
    "category = 'warship'\n",
    "data_path = 'time_series_data/{}/{}_{}.csv'.format(model_version, category, model_name)\n",
    "\n",
    "df = pd.read_csv(data_path)\n",
    "\n",
    "category_list = df.category.tolist()\n",
    "score_list = df.score.tolist()\n",
    "\n",
    "warship_true = []\n",
    "warship_score = []\n",
    "for i in range(len(category_list)):\n",
    "    if category_list[i] == 'warship':\n",
    "        warship_true.append(True)\n",
    "        warship_score.append(score_list[i])\n",
    "    else:\n",
    "        if math.isnan(score_list[i]) == True:\n",
    "            pass\n",
    "        else:\n",
    "            warship_true.append(False)\n",
    "            warship_score.append(score_list[i])\n",
    "        \n",
    "y_true = np.array(warship_true)\n",
    "y_scores = np.array(warship_score)\n",
    "precision, recall, thresholds = precision_recall_curve(y_true, y_scores)\n",
    "\n",
    "plt.plot(recall, precision)\n",
    "\n",
    "print(\"Warship AP:\", sum(precision)/len(precision))\n",
    "ssd_mobilenet_warship_ap = sum(precision)/len(precision)"
   ]
  },
  {
   "cell_type": "code",
   "execution_count": 31,
   "metadata": {},
   "outputs": [],
   "source": [
    "ssd_mobilenet_true = fishing_true + merchant_true + passenger_true + sailing_true + small_true + tug_true + warship_true\n",
    "ssd_mobilenet_score = fishing_score + merchant_score + passenger_score + sailing_score + small_score + tug_score + warship_score"
   ]
  },
  {
   "cell_type": "markdown",
   "metadata": {},
   "source": [
    "# Faster RCNN"
   ]
  },
  {
   "cell_type": "code",
   "execution_count": 32,
   "metadata": {},
   "outputs": [],
   "source": [
    "model_version = 'v3'\n",
    "model_name = 'faster_rcnn_resnet50_ship_{}'.format(model_version)"
   ]
  },
  {
   "cell_type": "code",
   "execution_count": 33,
   "metadata": {},
   "outputs": [
    {
     "name": "stdout",
     "output_type": "stream",
     "text": [
      "Fishing AP: 0.9858393666855452\n"
     ]
    },
    {
     "data": {
      "image/png": "[encoded data removed]",
      "text/plain": [
       "<Figure size 432x288 with 1 Axes>"
      ]
     },
     "metadata": {
      "needs_background": "light"
     },
     "output_type": "display_data"
    }
   ],
   "source": [
    "category = 'fishing'\n",
    "data_path = 'time_series_data/{}/{}_{}.csv'.format(model_version, category, model_name)\n",
    "\n",
    "df = pd.read_csv(data_path)\n",
    "\n",
    "category_list = df.category.tolist()\n",
    "score_list = df.score.tolist()\n",
    "\n",
    "fishing_true = []\n",
    "fishing_score = []\n",
    "for i in range(len(category_list)):\n",
    "    if category_list[i] == 'fishing':\n",
    "        fishing_true.append(True)\n",
    "        fishing_score.append(score_list[i])\n",
    "    else:\n",
    "        if math.isnan(score_list[i]) == True:\n",
    "            pass\n",
    "        else:\n",
    "            fishing_true.append(False)\n",
    "            fishing_score.append(score_list[i])\n",
    "        \n",
    "y_true = np.array(fishing_true)\n",
    "y_score = np.array(fishing_score)\n",
    "precision, recall, thresholds = precision_recall_curve(y_true, y_score)\n",
    "\n",
    "plt.plot(recall, precision)\n",
    "\n",
    "print(\"Fishing AP:\", sum(precision)/len(precision))\n",
    "faster_rcnn_fishing_ap = sum(precision)/len(precision)"
   ]
  },
  {
   "cell_type": "code",
   "execution_count": 34,
   "metadata": {},
   "outputs": [],
   "source": [
    "model_version = 'v1'\n",
    "model_name = 'faster_rcnn_resnet50_ship_{}'.format(model_version)"
   ]
  },
  {
   "cell_type": "code",
   "execution_count": 35,
   "metadata": {},
   "outputs": [
    {
     "name": "stdout",
     "output_type": "stream",
     "text": [
      "Merchant AP: 1.0\n"
     ]
    },
    {
     "data": {
      "image/png": "[encoded data removed]",
      "text/plain": [
       "<Figure size 432x288 with 1 Axes>"
      ]
     },
     "metadata": {
      "needs_background": "light"
     },
     "output_type": "display_data"
    }
   ],
   "source": [
    "category = 'merchant'\n",
    "data_path = 'time_series_data/{}/{}_{}.csv'.format(model_version, category, model_name)\n",
    "\n",
    "df = pd.read_csv(data_path)\n",
    "\n",
    "category_list = df.category.tolist()\n",
    "score_list = df.score.tolist()\n",
    "\n",
    "merchant_true = []\n",
    "merchant_score = []\n",
    "for i in range(len(category_list)):\n",
    "    if category_list[i] == 'merchant':\n",
    "        merchant_true.append(True)\n",
    "        merchant_score.append(score_list[i])\n",
    "    else:\n",
    "        if math.isnan(score_list[i]) == True:\n",
    "            pass\n",
    "        else:\n",
    "            merchant_true.append(False)\n",
    "            merchant_score.append(score_list[i])\n",
    "        \n",
    "y_true = np.array(merchant_true)\n",
    "y_score = np.array(merchant_score)\n",
    "precision, recall, thresholds = precision_recall_curve(y_true, y_score)\n",
    "\n",
    "plt.plot(recall, precision)\n",
    "\n",
    "print(\"Merchant AP:\", sum(precision)/len(precision))\n",
    "faster_rcnn_merchant_ap = sum(precision)/len(precision)"
   ]
  },
  {
   "cell_type": "code",
   "execution_count": 36,
   "metadata": {},
   "outputs": [],
   "source": [
    "model_version = 'v1'\n",
    "model_name = 'faster_rcnn_resnet50_ship_{}'.format(model_version)"
   ]
  },
  {
   "cell_type": "code",
   "execution_count": 37,
   "metadata": {},
   "outputs": [
    {
     "name": "stdout",
     "output_type": "stream",
     "text": [
      "Passenger AP: 1.0\n"
     ]
    },
    {
     "data": {
      "image/png": "[encoded data removed]",
      "text/plain": [
       "<Figure size 432x288 with 1 Axes>"
      ]
     },
     "metadata": {
      "needs_background": "light"
     },
     "output_type": "display_data"
    }
   ],
   "source": [
    "category = 'passenger'\n",
    "data_path = 'time_series_data/{}/{}_{}.csv'.format(model_version, category, model_name)\n",
    "\n",
    "df = pd.read_csv(data_path)\n",
    "\n",
    "category_list = df.category.tolist()\n",
    "score_list = df.score.tolist()\n",
    "\n",
    "passenger_true = []\n",
    "passenger_score = []\n",
    "for i in range(len(category_list)):\n",
    "    if category_list[i] == 'passenger':\n",
    "        passenger_true.append(True)\n",
    "        passenger_score.append(score_list[i])\n",
    "    else:\n",
    "        if math.isnan(score_list[i]) == True:\n",
    "            pass\n",
    "        else:\n",
    "            passenger_true.append(False)\n",
    "            passenger_score.append(score_list[i])\n",
    "        \n",
    "y_true = np.array(passenger_true)\n",
    "y_score = np.array(passenger_score)\n",
    "precision, recall, thresholds = precision_recall_curve(y_true, y_score)\n",
    "\n",
    "plt.plot(recall, precision)\n",
    "\n",
    "print(\"Passenger AP:\", sum(precision)/len(precision))\n",
    "faster_rcnn_passenger_ap = sum(precision)/len(precision)"
   ]
  },
  {
   "cell_type": "code",
   "execution_count": 38,
   "metadata": {},
   "outputs": [],
   "source": [
    "model_version = 'v1'\n",
    "model_name = 'faster_rcnn_resnet50_ship_{}'.format(model_version)"
   ]
  },
  {
   "cell_type": "code",
   "execution_count": 39,
   "metadata": {},
   "outputs": [
    {
     "name": "stdout",
     "output_type": "stream",
     "text": [
      "Sailing AP: 1.0\n"
     ]
    },
    {
     "data": {
      "image/png": "[encoded data removed]",
      "text/plain": [
       "<Figure size 432x288 with 1 Axes>"
      ]
     },
     "metadata": {
      "needs_background": "light"
     },
     "output_type": "display_data"
    }
   ],
   "source": [
    "category = 'sailing'\n",
    "data_path = 'time_series_data/{}/{}_{}.csv'.format(model_version, category, model_name)\n",
    "\n",
    "df = pd.read_csv(data_path)\n",
    "\n",
    "category_list = df.category.tolist()\n",
    "score_list = df.score.tolist()\n",
    "\n",
    "sailing_true = []\n",
    "sailing_score = []\n",
    "for i in range(len(category_list)):\n",
    "    if category_list[i] == 'sailing':\n",
    "        sailing_true.append(True)\n",
    "        sailing_score.append(score_list[i])\n",
    "    else:\n",
    "        if math.isnan(score_list[i]) == True:\n",
    "            pass\n",
    "        else:\n",
    "            sailing_true.append(False)\n",
    "            sailing_score.append(score_list[i])\n",
    "    \n",
    "y_true = np.array(sailing_true)\n",
    "y_score = np.array(sailing_score)\n",
    "precision, recall, thresholds = precision_recall_curve(y_true, y_score)\n",
    "\n",
    "plt.plot(recall, precision)\n",
    "\n",
    "print(\"Sailing AP:\", sum(precision)/len(precision))\n",
    "faster_rcnn_sailing_ap = sum(precision)/len(precision)"
   ]
  },
  {
   "cell_type": "code",
   "execution_count": 40,
   "metadata": {},
   "outputs": [],
   "source": [
    "model_version = 'v2'\n",
    "model_name = 'faster_rcnn_resnet50_ship_{}'.format(model_version)"
   ]
  },
  {
   "cell_type": "code",
   "execution_count": 41,
   "metadata": {},
   "outputs": [
    {
     "name": "stdout",
     "output_type": "stream",
     "text": [
      "Small AP: 0.9991944833418841\n"
     ]
    },
    {
     "data": {
      "image/png": "[encoded data removed]",
      "text/plain": [
       "<Figure size 432x288 with 1 Axes>"
      ]
     },
     "metadata": {
      "needs_background": "light"
     },
     "output_type": "display_data"
    }
   ],
   "source": [
    "category = 'small'\n",
    "data_path = 'time_series_data/{}/{}_{}.csv'.format(model_version, category, model_name)\n",
    "\n",
    "df = pd.read_csv(data_path)\n",
    "\n",
    "category_list = df.category.tolist()\n",
    "score_list = df.score.tolist()\n",
    "\n",
    "small_true = []\n",
    "small_score = []\n",
    "for i in range(len(category_list)):\n",
    "    if category_list[i] == 'small':\n",
    "        small_true.append(True)\n",
    "        small_score.append(score_list[i])\n",
    "    else:\n",
    "        if math.isnan(score_list[i]) == True:\n",
    "            pass\n",
    "        else:\n",
    "            small_true.append(False)\n",
    "            small_score.append(score_list[i])\n",
    "        \n",
    "y_true = np.array(small_true)\n",
    "y_score = np.array(small_score)\n",
    "precision, recall, thresholds = precision_recall_curve(y_true, y_score)\n",
    "\n",
    "plt.plot(recall, precision)\n",
    "\n",
    "print(\"Small AP:\", sum(precision)/len(precision))\n",
    "faster_rcnn_small_ap = sum(precision)/len(precision)"
   ]
  },
  {
   "cell_type": "code",
   "execution_count": 42,
   "metadata": {},
   "outputs": [],
   "source": [
    "model_version = 'v1'\n",
    "model_name = 'faster_rcnn_resnet50_ship_{}'.format(model_version)"
   ]
  },
  {
   "cell_type": "code",
   "execution_count": 43,
   "metadata": {},
   "outputs": [
    {
     "name": "stdout",
     "output_type": "stream",
     "text": [
      "Tug AP: 0.9999594670201395\n"
     ]
    },
    {
     "data": {
      "image/png": "[encoded data removed]",
      "text/plain": [
       "<Figure size 432x288 with 1 Axes>"
      ]
     },
     "metadata": {
      "needs_background": "light"
     },
     "output_type": "display_data"
    }
   ],
   "source": [
    "category = 'tug'\n",
    "data_path = 'time_series_data/{}/{}_{}.csv'.format(model_version, category, model_name)\n",
    "\n",
    "df = pd.read_csv(data_path)\n",
    "\n",
    "category_list = df.category.tolist()\n",
    "score_list = df.score.tolist()\n",
    "\n",
    "tug_true = []\n",
    "tug_score = []\n",
    "for i in range(len(category_list)):\n",
    "    if category_list[i] == 'tug':\n",
    "        tug_true.append(True)\n",
    "        tug_score.append(score_list[i])\n",
    "    else:\n",
    "        if math.isnan(score_list[i]) == True:\n",
    "            pass\n",
    "        else:\n",
    "            tug_true.append(False)\n",
    "            tug_score.append(score_list[i])\n",
    "        \n",
    "y_true = np.array(tug_true)\n",
    "y_score = np.array(tug_score)\n",
    "precision, recall, thresholds = precision_recall_curve(y_true, y_score)\n",
    "\n",
    "plt.plot(recall, precision)\n",
    "\n",
    "print(\"Tug AP:\", sum(precision)/len(precision))\n",
    "faster_rcnn_tug_ap = sum(precision)/len(precision)"
   ]
  },
  {
   "cell_type": "code",
   "execution_count": 44,
   "metadata": {},
   "outputs": [],
   "source": [
    "model_version = 'v2'\n",
    "model_name = 'faster_rcnn_resnet50_ship_{}'.format(model_version)"
   ]
  },
  {
   "cell_type": "code",
   "execution_count": 45,
   "metadata": {},
   "outputs": [
    {
     "name": "stdout",
     "output_type": "stream",
     "text": [
      "Warship AP: 0.9730590134684757\n"
     ]
    },
    {
     "data": {
      "image/png": "[encoded data removed]",
      "text/plain": [
       "<Figure size 432x288 with 1 Axes>"
      ]
     },
     "metadata": {
      "needs_background": "light"
     },
     "output_type": "display_data"
    }
   ],
   "source": [
    "category = 'warship'\n",
    "data_path = 'time_series_data/{}/{}_{}.csv'.format(model_version, category, model_name)\n",
    "\n",
    "df = pd.read_csv(data_path)\n",
    "\n",
    "category_list = df.category.tolist()\n",
    "score_list = df.score.tolist()\n",
    "\n",
    "warship_true = []\n",
    "warship_score = []\n",
    "for i in range(len(category_list)):\n",
    "    if category_list[i] == 'warship':\n",
    "        warship_true.append(True)\n",
    "        warship_score.append(score_list[i])\n",
    "    else:\n",
    "        if math.isnan(score_list[i]) == True:\n",
    "            pass\n",
    "        else:\n",
    "            warship_true.append(False)\n",
    "            warship_score.append(score_list[i])\n",
    "        \n",
    "y_true = np.array(warship_true)\n",
    "y_scores = np.array(warship_score)\n",
    "precision, recall, thresholds = precision_recall_curve(y_true, y_scores)\n",
    "\n",
    "plt.plot(recall, precision)\n",
    "\n",
    "print(\"Warship AP:\", sum(precision)/len(precision))\n",
    "faster_rcnn_warship_ap = sum(precision)/len(precision)"
   ]
  },
  {
   "cell_type": "code",
   "execution_count": 46,
   "metadata": {},
   "outputs": [],
   "source": [
    "faster_rcnn_true = fishing_true + merchant_true + passenger_true + sailing_true + small_true + tug_true + warship_true\n",
    "faster_rcnn_score = fishing_score + merchant_score + passenger_score + sailing_score + small_score + tug_score + warship_score"
   ]
  },
  {
   "cell_type": "markdown",
   "metadata": {},
   "source": [
    "# precision-recall Curve"
   ]
  },
  {
   "cell_type": "code",
   "execution_count": 47,
   "metadata": {},
   "outputs": [
    {
     "name": "stdout",
     "output_type": "stream",
     "text": [
      "Faster RCNN mAP: 0.9929729800736742\n",
      "SSD MoblieNet mAP: 0.9349697108475397\n",
      "SSD Inception mAP: 0.9830513013192049\n"
     ]
    },
    {
     "data": {
      "image/png": "[encoded data removed]",
      "text/plain": [
       "<Figure size 936x720 with 1 Axes>"
      ]
     },
     "metadata": {
      "needs_background": "light"
     },
     "output_type": "display_data"
    }
   ],
   "source": [
    "# sns.set()\n",
    "plt.figure(figsize=(13, 10))\n",
    "plt.subplot()\n",
    "plt.grid()\n",
    "\n",
    "line_color = ['orange', 'brown', 'blue', 'lime', 'navy', 'red', 'grey']\n",
    "line_width = 3\n",
    "\n",
    "label_size = 25\n",
    "\n",
    "legend_loc = 'lower right'\n",
    "legend_fontsize = 20\n",
    "\n",
    "precision, recall, thresholds = precision_recall_curve(faster_rcnn_true, faster_rcnn_score)\n",
    "print(\"Faster RCNN mAP:\", sum(precision)/len(precision))\n",
    "plt.plot(recall, precision, line_color[5], label='Faster RCNN ResNet50')\n",
    "\n",
    "precision, recall, thresholds = precision_recall_curve(ssd_mobilenet_true, ssd_mobilenet_score)\n",
    "print(\"SSD MoblieNet mAP:\", sum(precision)/len(precision))\n",
    "plt.plot(recall, precision, line_color[0], label='SSD MoblieNet')\n",
    "\n",
    "precision, recall, thresholds = precision_recall_curve(ssd_inception_true, ssd_inception_score)\n",
    "print(\"SSD Inception mAP:\", sum(precision)/len(precision))\n",
    "plt.plot(recall, precision, line_color[2], label='SSD Inception')\n",
    "\n",
    "plt.xlabel('recall', size=label_size)\n",
    "plt.xlim([-0.05, 1.05])\n",
    "plt.ylabel('precision', size=label_size)\n",
    "# plt.ylim([0.45, 1.05])\n",
    "\n",
    "plt.legend(loc=legend_loc, fontsize=legend_fontsize)\n",
    "\n",
    "plt.show()"
   ]
  },
  {
   "cell_type": "code",
   "execution_count": 48,
   "metadata": {},
   "outputs": [
    {
     "name": "stdout",
     "output_type": "stream",
     "text": [
      "0.9858393666855452\n",
      "1.0\n",
      "1.0\n",
      "1.0\n",
      "0.9991944833418841\n",
      "0.9999594670201395\n",
      "0.9730590134684757\n",
      "Faster R-CNN mAP: 0.9940074757880063\n",
      "\n",
      "0.42617695922102256\n",
      "1.0\n",
      "0.9823686123498533\n",
      "1.0\n",
      "0.9573742394165096\n",
      "0.9999707693342638\n",
      "0.9194962756512035\n",
      "SSD-MobileNet mAP: 0.8979124079961219\n",
      "\n",
      "0.9993372385644194\n",
      "1.0\n",
      "1.0\n",
      "1.0\n",
      "0.9759573950181347\n",
      "0.9498822645544821\n",
      "0.9542256606893131\n",
      "SSD-Inception mAP: 0.9827717941180499\n",
      "\n"
     ]
    }
   ],
   "source": [
    "faster_rcnn_mAP = (faster_rcnn_fishing_ap + \\\n",
    "                   faster_rcnn_merchant_ap + \\\n",
    "                   faster_rcnn_passenger_ap + \\\n",
    "                   faster_rcnn_sailing_ap + \\\n",
    "                   faster_rcnn_small_ap + \\\n",
    "                   faster_rcnn_tug_ap + \\\n",
    "                   faster_rcnn_warship_ap) / 7\n",
    "print(faster_rcnn_fishing_ap)\n",
    "print(faster_rcnn_merchant_ap)\n",
    "print(faster_rcnn_passenger_ap)\n",
    "print(faster_rcnn_sailing_ap)\n",
    "print(faster_rcnn_small_ap)\n",
    "print(faster_rcnn_tug_ap)\n",
    "print(faster_rcnn_warship_ap)\n",
    "print(\"Faster R-CNN mAP:\", faster_rcnn_mAP)\n",
    "print('')\n",
    "ssd_mobilenet_mAP = (ssd_mobilenet_fishing_ap + \\\n",
    "                   ssd_mobilenet_merchant_ap + \\\n",
    "                   ssd_mobilenet_passenger_ap + \\\n",
    "                   ssd_mobilenet_sailing_ap + \\\n",
    "                   ssd_mobilenet_small_ap + \\\n",
    "                   ssd_mobilenet_tug_ap + \\\n",
    "                   ssd_mobilenet_warship_ap) / 7\n",
    "print(ssd_mobilenet_fishing_ap)\n",
    "print(ssd_mobilenet_merchant_ap)\n",
    "print(ssd_mobilenet_passenger_ap)\n",
    "print(ssd_mobilenet_sailing_ap)\n",
    "print(ssd_mobilenet_small_ap)\n",
    "print(ssd_mobilenet_tug_ap)\n",
    "print(ssd_mobilenet_warship_ap)\n",
    "print(\"SSD-MobileNet mAP:\", ssd_mobilenet_mAP)\n",
    "print('')\n",
    "ssd_inception_mAP = (ssd_inception_fishing_ap + \\\n",
    "                   ssd_inception_merchant_ap + \\\n",
    "                   ssd_inception_passenger_ap + \\\n",
    "                   ssd_inception_sailing_ap + \\\n",
    "                   ssd_inception_small_ap + \\\n",
    "                   ssd_inception_tug_ap + \\\n",
    "                   ssd_inception_warship_ap) / 7\n",
    "print(ssd_inception_fishing_ap)\n",
    "print(ssd_inception_merchant_ap)\n",
    "print(ssd_inception_passenger_ap)\n",
    "print(ssd_inception_sailing_ap)\n",
    "print(ssd_inception_small_ap)\n",
    "print(ssd_inception_tug_ap)\n",
    "print(ssd_inception_warship_ap)\n",
    "print(\"SSD-Inception mAP:\", ssd_inception_mAP)\n",
    "print('')"
   ]
  }
 ],
 "metadata": {
  "kernelspec": {
   "display_name": "Python 3",
   "language": "python",
   "name": "python3"
  },
  "language_info": {
   "codemirror_mode": {
    "name": "ipython",
    "version": 3
   },
   "file_extension": ".py",
   "mimetype": "text/x-python",
   "name": "python",
   "nbconvert_exporter": "python",
   "pygments_lexer": "ipython3",
   "version": "3.5.4"
  }
 },
 "nbformat": 4,
 "nbformat_minor": 1
}
